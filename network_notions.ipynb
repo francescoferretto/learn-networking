{
 "cells": [
  {
   "cell_type": "markdown",
   "id": "f525714b-0dbc-4734-83b3-c86de185aa48",
   "metadata": {},
   "source": [
    "## Import the libraries"
   ]
  },
  {
   "cell_type": "code",
   "execution_count": 1,
   "id": "4cc8b18c-bbcb-4b04-95e8-a13c992caafb",
   "metadata": {},
   "outputs": [],
   "source": [
    "from datetime import date\n",
    "import json\n",
    "import ast"
   ]
  },
  {
   "cell_type": "code",
   "execution_count": 2,
   "id": "8f6729b6-7afd-4c2a-901d-795139d78fab",
   "metadata": {},
   "outputs": [],
   "source": [
    "def hamming_distance_string(str_1, str_2, add_score = True):\n",
    "    \n",
    "    distance = 0 \n",
    "    score = 0\n",
    "    \n",
    "    for char_1, char_2 in zip(str_1, str_2):\n",
    "        \n",
    "        if char_1 != char_2: \n",
    "            distance += 1\n",
    "        else: \n",
    "            score += 1 \n",
    "            \n",
    "    if add_score: \n",
    "        return distance, score \n",
    "    else: \n",
    "        return distance"
   ]
  },
  {
   "cell_type": "markdown",
   "id": "d4a16713-3edd-40cb-9fa7-e2bf805044c7",
   "metadata": {},
   "source": [
    "## Import the dict from the `.txt` file"
   ]
  },
  {
   "cell_type": "code",
   "execution_count": 3,
   "id": "92fe66bd-2f9a-40ea-b44d-58df7c114b99",
   "metadata": {},
   "outputs": [
    {
     "name": "stdout",
     "output_type": "stream",
     "text": [
      "the amount of notions is 3\n"
     ]
    }
   ],
   "source": [
    "try:\n",
    "    \n",
    "    with open('network_notions.txt', 'r') as f:\n",
    "        contents = f.read()\n",
    "        network_notions = ast.literal_eval(contents)\n",
    "        print(\"the amount of notions is {}\".format(len(network_notions)))\n",
    "        \n",
    "except FileNotFoundError:\n",
    "    \n",
    "    print(\"The file does not exist, creating it in the local folder\")\n",
    "    with open('network_notions.txt', 'w'): \n",
    "        network_notions = dict()"
   ]
  },
  {
   "cell_type": "markdown",
   "id": "342dc327-93ae-4ca0-bf01-7e430f964a0d",
   "metadata": {},
   "source": [
    "## Add new notions"
   ]
  },
  {
   "cell_type": "code",
   "execution_count": 5,
   "id": "1f607408-96ae-4671-bdf5-71874b3bc22b",
   "metadata": {},
   "outputs": [
    {
     "name": "stdin",
     "output_type": "stream",
     "text": [
      "Insert the new notion:  access network\n",
      "Already existing notion, do you want to extend the meaning or change the meaning of it? extend/change/no change\n"
     ]
    },
    {
     "name": "stdout",
     "output_type": "stream",
     "text": [
      "This is the current meaning of the 'access network' notion: \n",
      "  is a network which is connected to the first router along the path that connects any destination end system with the source one. \n"
     ]
    },
    {
     "name": "stdin",
     "output_type": "stream",
     "text": [
      "Change the definition:   is a network which is connected to the first router along the path that connects any destination end system with the source one.  Insert the new correspondence in italian:  Home networks can use a DSL (digital subscriber line, a network which uses the telephone infrastructure to connect to the internet), a cable network (popular in USA, uses TV antennas as a communication channel) or FTTH (fiber to the home).\n",
      "Digit y/n to add new notion:  \n"
     ]
    },
    {
     "name": "stdout",
     "output_type": "stream",
     "text": [
      "Unacceptable letter, program stops\n"
     ]
    }
   ],
   "source": [
    "break_word = \"y\"\n",
    "\n",
    "while break_word == \"y\": \n",
    "    \n",
    "    notion = input(\"Insert the new notion: \")\n",
    "    \n",
    "    if notion.lower() not in network_notions.keys():\n",
    "        \n",
    "        meaning = input(\"Insert the meaning of it: \")\n",
    "        network_notions[notion.lower()] = meaning.lower()\n",
    "        del notion, meaning   \n",
    "        \n",
    "    else:\n",
    "        \n",
    "        update = input(\"Already existing notion, do you want to extend the meaning or change the meaning of it? extend/change/no\")\n",
    "        \n",
    "        if update == \"extend\":\n",
    "            \n",
    "            print(\"This is the current meaning of the '{}' notion: \\n \".format(notion), network_notions[notion.lower()])\n",
    "            meaning = input(\"Extend the definition: \")\n",
    "            network_notions[notion.lower()] += \".\\n\" + notion.lower()\n",
    "            del notion, meaning   \n",
    "            \n",
    "        elif update == \"change\":\n",
    "            \n",
    "            print(\"This is the current meaning of the '{}' notion: \\n \".format(notion), network_notions[notion.lower()])\n",
    "            meaning = input(\"Change the definition: \")\n",
    "            network_notions[notion.lower()] = meaning.lower()\n",
    "            del notion, meaning     \n",
    "            \n",
    "        elif update == \"no\":\n",
    "            \n",
    "            pass \n",
    "        \n",
    "        else:\n",
    "            \n",
    "            print(\"Wrong reply, use the word: \\n -'extend' to add a phrase to the meaning \\n -'change' to change completely the meaning of a notion \\n -'no' to jump this passage\")\n",
    "        \n",
    "    break_word = input(\"Digit y/n to add new notion: \")\n",
    "    \n",
    "    if break_word.lower() not in {\"y\",\"n\"}:\n",
    "        print(\"Unacceptable letter, program stops\")"
   ]
  },
  {
   "cell_type": "markdown",
   "id": "c62aa72d-6bbb-463b-b473-7cc3ef4f1d95",
   "metadata": {},
   "source": [
    "## Delete notions"
   ]
  },
  {
   "cell_type": "code",
   "execution_count": 26,
   "id": "db67427f-44ed-4446-b12b-5b82c9af5b5c",
   "metadata": {},
   "outputs": [
    {
     "name": "stdin",
     "output_type": "stream",
     "text": [
      "Insert the notion that you want to delete acess network\n"
     ]
    },
    {
     "name": "stdout",
     "output_type": "stream",
     "text": [
      "Inserted notion not available.\n",
      "Here the most 5 similar notions are [('access network', 3), ('network edge', 0), ('protocol', 0)]\n"
     ]
    }
   ],
   "source": [
    "notion_to_delete = input(\"Insert the notion that you want to delete\")\n",
    "\n",
    "if notion_to_delete in network_notions.keys():\n",
    "    confirmation = input(\"Here we found the '{}' notion among the available ones, proceed? y/n\".format(notion_to_delete))\n",
    "    if confirmation.lower() == \"y\": \n",
    "        del network_notions[notion_to_delete]\n",
    "    else: \n",
    "        print(\"Re-compile the cell to execute another deleting request\") \n",
    "else:\n",
    "    print(\"Inserted notion not available.\") \n",
    "    most_sim_notions = [(notion, hamming_distance_string(notion, notion_to_delete)[1]) for notion in network_notions.keys()]\n",
    "    most_sim_notions = sorted(most_sim_notions, key = lambda x : x[1], reverse = True)\n",
    "    print(\"Here the most 5 similar notions are {}\".format(most_sim_notions[:5]))"
   ]
  },
  {
   "cell_type": "markdown",
   "id": "3857032e-441a-45df-80f7-84d242a28a27",
   "metadata": {},
   "source": [
    "## Save the file"
   ]
  },
  {
   "cell_type": "code",
   "execution_count": 15,
   "id": "24581cc6-0557-4d88-8500-b5b44688f636",
   "metadata": {},
   "outputs": [],
   "source": [
    "# sorting the file\n",
    "network_notions = {k : v for k, v in sorted(network_notions.items(), key = lambda x : x[0], reverse = False)}\n",
    "\n",
    "try:\n",
    "    \n",
    "    with open('network_notions.txt', 'w') as f:\n",
    "         f.write(json.dumps(network_notions))\n",
    "            \n",
    "except FileNotFoundError:\n",
    "    \n",
    "    print(\"The directory does not exist\")"
   ]
  },
  {
   "cell_type": "markdown",
   "id": "7f035012-5437-45c3-8141-d622bfcb8bea",
   "metadata": {},
   "source": [
    "---\n",
    "---"
   ]
  },
  {
   "cell_type": "markdown",
   "id": "44220e5a-2bac-456e-8c05-9dc3419a1f41",
   "metadata": {},
   "source": [
    "## Printing the content of the dict in case of a missing `.txt`"
   ]
  },
  {
   "cell_type": "code",
   "execution_count": 3,
   "id": "39e2d1c1-7de6-48d5-b4fd-83541dd26c2c",
   "metadata": {
    "tags": []
   },
   "outputs": [
    {
     "name": "stdout",
     "output_type": "stream",
     "text": [
      "'access network':'is a network which is connected to the first router along the path that connects any destination end system with the source one. '\n",
      "'network edge':'they are the terminal part of the network. we call them hosts, which are divided between clients and servers. the formers are any electronic device connected to the internet (like personal pcs, laptops, tablets, smartphones, ...) utilized by a final user, the latters are powerful machines that store and manage web pages, databases, ...'\n",
      "'protocol':'is a set of rules that defines the format and the order of the messages sent between a transmitter and a receiver along with the actions that can be taken on the transmission and reception of them.'\n"
     ]
    }
   ],
   "source": [
    "for k, v in network_notions.items():\n",
    "    print(\"'{}':'{}'\".format(k,v))"
   ]
  },
  {
   "cell_type": "code",
   "execution_count": null,
   "id": "28f7a5a5-952b-44a4-a7f8-98e87755de16",
   "metadata": {},
   "outputs": [],
   "source": []
  },
  {
   "cell_type": "code",
   "execution_count": null,
   "id": "4ac94717-fc94-45d7-bf27-1a05fa928857",
   "metadata": {},
   "outputs": [],
   "source": []
  }
 ],
 "metadata": {
  "kernelspec": {
   "display_name": "Python 3",
   "language": "python",
   "name": "python3"
  },
  "language_info": {
   "codemirror_mode": {
    "name": "ipython",
    "version": 3
   },
   "file_extension": ".py",
   "mimetype": "text/x-python",
   "name": "python",
   "nbconvert_exporter": "python",
   "pygments_lexer": "ipython3",
   "version": "3.9.2"
  }
 },
 "nbformat": 4,
 "nbformat_minor": 5
}
